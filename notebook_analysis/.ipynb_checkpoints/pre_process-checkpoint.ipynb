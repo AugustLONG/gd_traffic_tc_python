{
 "cells": [
  {
   "cell_type": "markdown",
   "metadata": {},
   "source": [
    "# 数据预处理"
   ]
  },
  {
   "cell_type": "code",
   "execution_count": 2,
   "metadata": {
    "collapsed": false
   },
   "outputs": [
    {
     "data": {
      "text/plain": [
       "u'E:\\\\gd_Bus'"
      ]
     },
     "execution_count": 2,
     "metadata": {},
     "output_type": "execute_result"
    }
   ],
   "source": [
    "import pandas as pd\n",
    "from pandas import Series,DataFrame\n",
    "%pwd"
   ]
  },
  {
   "cell_type": "code",
   "execution_count": 3,
   "metadata": {
    "collapsed": true
   },
   "outputs": [],
   "source": [
    "#!type gd_train_data.txt  #数据太大，不合适"
   ]
  },
  {
   "cell_type": "code",
   "execution_count": 20,
   "metadata": {
    "collapsed": false
   },
   "outputs": [
    {
     "data": {
      "text/html": [
       "<div>\n",
       "<table border=\"1\" class=\"dataframe\">\n",
       "  <thead>\n",
       "    <tr style=\"text-align: right;\">\n",
       "      <th></th>\n",
       "      <th>Use_city</th>\n",
       "      <th>Line_name</th>\n",
       "      <th>Terminal_id</th>\n",
       "      <th>Card_id</th>\n",
       "      <th>Create_city</th>\n",
       "      <th>Deal_time</th>\n",
       "      <th>Card_type</th>\n",
       "    </tr>\n",
       "  </thead>\n",
       "  <tbody>\n",
       "    <tr>\n",
       "      <th>0</th>\n",
       "      <td>广州</td>\n",
       "      <td>线路10</td>\n",
       "      <td>4589bb610f9be53a43a7bc26bb40e44d</td>\n",
       "      <td>8ce79e0b647053f191d20c5552eb49f0</td>\n",
       "      <td>广州</td>\n",
       "      <td>2014082016</td>\n",
       "      <td>普通卡</td>\n",
       "    </tr>\n",
       "    <tr>\n",
       "      <th>1</th>\n",
       "      <td>广州</td>\n",
       "      <td>线路10</td>\n",
       "      <td>9c9eb0595e01d0cb59c295945c3ff2d6</td>\n",
       "      <td>2f7bef8cdab54fcdf9feefd89188a971</td>\n",
       "      <td>广州</td>\n",
       "      <td>2014082118</td>\n",
       "      <td>普通卡</td>\n",
       "    </tr>\n",
       "    <tr>\n",
       "      <th>2</th>\n",
       "      <td>广州</td>\n",
       "      <td>线路10</td>\n",
       "      <td>3f9c5fb36b3558e9bdf2b498e4b17d67</td>\n",
       "      <td>36f7c3edb84d90fa2427ffe60f014d38</td>\n",
       "      <td>广州</td>\n",
       "      <td>2014082114</td>\n",
       "      <td>普通卡</td>\n",
       "    </tr>\n",
       "    <tr>\n",
       "      <th>3</th>\n",
       "      <td>广州</td>\n",
       "      <td>线路10</td>\n",
       "      <td>9810dbdd5ff325b4078a3ffcaa538574</td>\n",
       "      <td>875cb3e21f66347b6d1420f201fd4ca6</td>\n",
       "      <td>广州</td>\n",
       "      <td>2014082118</td>\n",
       "      <td>普通卡</td>\n",
       "    </tr>\n",
       "    <tr>\n",
       "      <th>4</th>\n",
       "      <td>广州</td>\n",
       "      <td>线路15</td>\n",
       "      <td>36856ea753f808b71500a18cd406e1b3</td>\n",
       "      <td>3c100e9c9a7086c7007df8e136e78823</td>\n",
       "      <td>广州</td>\n",
       "      <td>2014082115</td>\n",
       "      <td>普通卡</td>\n",
       "    </tr>\n",
       "    <tr>\n",
       "      <th>5</th>\n",
       "      <td>广州</td>\n",
       "      <td>线路15</td>\n",
       "      <td>835993d3d7708e79468043d5180c66ea</td>\n",
       "      <td>bdff7a26421e33bbfcf700a6b873188b</td>\n",
       "      <td>广州</td>\n",
       "      <td>2014082122</td>\n",
       "      <td>普通卡</td>\n",
       "    </tr>\n",
       "    <tr>\n",
       "      <th>6</th>\n",
       "      <td>广州</td>\n",
       "      <td>线路10</td>\n",
       "      <td>67a5210e1ead8a6ab70d1b9f5bebb815</td>\n",
       "      <td>41b8372a9e685ab4f25eeeae7badf521</td>\n",
       "      <td>广州</td>\n",
       "      <td>2014082113</td>\n",
       "      <td>普通卡</td>\n",
       "    </tr>\n",
       "    <tr>\n",
       "      <th>7</th>\n",
       "      <td>广州</td>\n",
       "      <td>线路10</td>\n",
       "      <td>3d18aa859d062e0504fecf4b7e545f5c</td>\n",
       "      <td>d3d755302278da1758f1df047a235e05</td>\n",
       "      <td>广州</td>\n",
       "      <td>2014082114</td>\n",
       "      <td>普通卡</td>\n",
       "    </tr>\n",
       "    <tr>\n",
       "      <th>8</th>\n",
       "      <td>广州</td>\n",
       "      <td>线路10</td>\n",
       "      <td>10c16eb7ec9869ea7d568226a1d071f1</td>\n",
       "      <td>6f0ccf04248204e1eea2b774d72e7de2</td>\n",
       "      <td>广州</td>\n",
       "      <td>2014082108</td>\n",
       "      <td>普通卡</td>\n",
       "    </tr>\n",
       "    <tr>\n",
       "      <th>9</th>\n",
       "      <td>广州</td>\n",
       "      <td>线路10</td>\n",
       "      <td>9810dbdd5ff325b4078a3ffcaa538574</td>\n",
       "      <td>4365c186a9053cdfb94263cbde5e0f40</td>\n",
       "      <td>广州</td>\n",
       "      <td>2014082109</td>\n",
       "      <td>老人卡</td>\n",
       "    </tr>\n",
       "  </tbody>\n",
       "</table>\n",
       "</div>"
      ],
      "text/plain": [
       "  Use_city Line_name                       Terminal_id  \\\n",
       "0       广州      线路10  4589bb610f9be53a43a7bc26bb40e44d   \n",
       "1       广州      线路10  9c9eb0595e01d0cb59c295945c3ff2d6   \n",
       "2       广州      线路10  3f9c5fb36b3558e9bdf2b498e4b17d67   \n",
       "3       广州      线路10  9810dbdd5ff325b4078a3ffcaa538574   \n",
       "4       广州      线路15  36856ea753f808b71500a18cd406e1b3   \n",
       "5       广州      线路15  835993d3d7708e79468043d5180c66ea   \n",
       "6       广州      线路10  67a5210e1ead8a6ab70d1b9f5bebb815   \n",
       "7       广州      线路10  3d18aa859d062e0504fecf4b7e545f5c   \n",
       "8       广州      线路10  10c16eb7ec9869ea7d568226a1d071f1   \n",
       "9       广州      线路10  9810dbdd5ff325b4078a3ffcaa538574   \n",
       "\n",
       "                            Card_id Create_city   Deal_time Card_type  \n",
       "0  8ce79e0b647053f191d20c5552eb49f0          广州  2014082016       普通卡  \n",
       "1  2f7bef8cdab54fcdf9feefd89188a971          广州  2014082118       普通卡  \n",
       "2  36f7c3edb84d90fa2427ffe60f014d38          广州  2014082114       普通卡  \n",
       "3  875cb3e21f66347b6d1420f201fd4ca6          广州  2014082118       普通卡  \n",
       "4  3c100e9c9a7086c7007df8e136e78823          广州  2014082115       普通卡  \n",
       "5  bdff7a26421e33bbfcf700a6b873188b          广州  2014082122       普通卡  \n",
       "6  41b8372a9e685ab4f25eeeae7badf521          广州  2014082113       普通卡  \n",
       "7  d3d755302278da1758f1df047a235e05          广州  2014082114       普通卡  \n",
       "8  6f0ccf04248204e1eea2b774d72e7de2          广州  2014082108       普通卡  \n",
       "9  4365c186a9053cdfb94263cbde5e0f40          广州  2014082109       老人卡  "
      ]
     },
     "execution_count": 20,
     "metadata": {},
     "output_type": "execute_result"
    }
   ],
   "source": [
    "train_data = pd.read_csv('gd_train_data.txt',names=['Use_city','Line_name','Terminal_id','Card_id','Create_city','Deal_time','Card_type'])\n",
    "train_data[:10]"
   ]
  },
  {
   "cell_type": "code",
   "execution_count": 27,
   "metadata": {
    "collapsed": false
   },
   "outputs": [
    {
     "data": {
      "text/plain": [
       "8926605"
      ]
     },
     "execution_count": 27,
     "metadata": {},
     "output_type": "execute_result"
    }
   ],
   "source": [
    "total_rows = len(train_data.index)\n",
    "#total_rows = train_data['Use_city'].count()\n",
    "total_rows"
   ]
  },
  {
   "cell_type": "markdown",
   "metadata": {},
   "source": [
    "## 统计卡类型\n",
    "- 7种卡类型"
   ]
  },
  {
   "cell_type": "code",
   "execution_count": 14,
   "metadata": {
    "collapsed": false
   },
   "outputs": [],
   "source": [
    "#train_data['Card_type']\n",
    "#card_type_group = train_data.groupby('Card_type')\n",
    "card_type_g = train_data['Card_type'].unique()\n",
    "#card_type_group"
   ]
  },
  {
   "cell_type": "code",
   "execution_count": 15,
   "metadata": {
    "collapsed": false
   },
   "outputs": [],
   "source": [
    "#中文编码显示问题，，。。。\n",
    "#修改默认编码\n",
    "#import sys\n",
    "#sys.getdefaultencoding() #'ascii'\n",
    "#reload(sys)\n",
    "#sys.setdefaultencoding('utf-8') #set default encoding to utf-8\n",
    "#sys.getdefaultencoding()\n",
    "#结果一样，没起作用---Series 会乱码\n",
    "#card_type_group"
   ]
  },
  {
   "cell_type": "code",
   "execution_count": 16,
   "metadata": {
    "collapsed": false
   },
   "outputs": [
    {
     "data": {
      "text/plain": [
       "0      普通卡\n",
       "1      老人卡\n",
       "2      学生卡\n",
       "3      残疾卡\n",
       "4      员工卡\n",
       "5    治安监督卡\n",
       "6      军属卡\n",
       "dtype: object"
      ]
     },
     "execution_count": 16,
     "metadata": {},
     "output_type": "execute_result"
    }
   ],
   "source": [
    "#改成series可以正常输出，说明内置arrray对中文处理不好，pandas可以\n",
    "card_type_g = Series(card_type_g)\n",
    "card_type_g"
   ]
  },
  {
   "cell_type": "markdown",
   "metadata": {},
   "source": [
    "## 线路\n",
    "- 两条线路，线路10,15"
   ]
  },
  {
   "cell_type": "code",
   "execution_count": 12,
   "metadata": {
    "collapsed": false
   },
   "outputs": [
    {
     "data": {
      "text/plain": [
       "0    线路10\n",
       "1    线路15\n",
       "dtype: object"
      ]
     },
     "execution_count": 12,
     "metadata": {},
     "output_type": "execute_result"
    }
   ],
   "source": [
    "Line_name_g = train_data['Line_name'].unique()\n",
    "Line_name_g = Series(Line_name_g)\n",
    "Line_name_g"
   ]
  },
  {
   "cell_type": "markdown",
   "metadata": {
    "collapsed": true
   },
   "source": [
    "## 发卡地\n",
    "- 20个城市"
   ]
  },
  {
   "cell_type": "code",
   "execution_count": 11,
   "metadata": {
    "collapsed": false
   },
   "outputs": [
    {
     "data": {
      "text/plain": [
       "0      广州\n",
       "1      佛山\n",
       "2      汕尾\n",
       "3      揭阳\n",
       "4      潮州\n",
       "5      河源\n",
       "6      肇庆\n",
       "7      清远\n",
       "8      江门\n",
       "9      惠州\n",
       "10     韶关\n",
       "11     茂名\n",
       "12    岭南通\n",
       "13     珠海\n",
       "14     阳江\n",
       "15     湛江\n",
       "16     澳门\n",
       "17     云浮\n",
       "18     梅州\n",
       "19     中山\n",
       "dtype: object"
      ]
     },
     "execution_count": 11,
     "metadata": {},
     "output_type": "execute_result"
    }
   ],
   "source": [
    "Create_city_g = train_data['Create_city'].unique()\n",
    "Create_city_g = Series(Create_city_g)\n",
    "Create_city_g"
   ]
  },
  {
   "cell_type": "markdown",
   "metadata": {},
   "source": [
    "## 终端ID\n",
    "- 两条线路，145个刷卡终端"
   ]
  },
  {
   "cell_type": "code",
   "execution_count": 30,
   "metadata": {
    "collapsed": false
   },
   "outputs": [
    {
     "data": {
      "text/plain": [
       "145"
      ]
     },
     "execution_count": 30,
     "metadata": {},
     "output_type": "execute_result"
    }
   ],
   "source": [
    "Terminal_id_c = set(train_data['Terminal_id'])\n",
    "len(Terminal_id_c)"
   ]
  },
  {
   "cell_type": "markdown",
   "metadata": {},
   "source": [
    "## 用户ID\n",
    "-193万用户"
   ]
  },
  {
   "cell_type": "code",
   "execution_count": 37,
   "metadata": {
    "collapsed": false
   },
   "outputs": [
    {
     "data": {
      "text/plain": [
       "1931027"
      ]
     },
     "execution_count": 37,
     "metadata": {},
     "output_type": "execute_result"
    }
   ],
   "source": [
    "Card_id_c = set(train_data['Card_id'])\n",
    "len(Card_id_c)"
   ]
  },
  {
   "cell_type": "markdown",
   "metadata": {},
   "source": [
    "## 使用地点\n",
    "- 全部是在广州"
   ]
  },
  {
   "cell_type": "code",
   "execution_count": 35,
   "metadata": {
    "collapsed": false
   },
   "outputs": [
    {
     "data": {
      "text/plain": [
       "0    广州\n",
       "dtype: object"
      ]
     },
     "execution_count": 35,
     "metadata": {},
     "output_type": "execute_result"
    }
   ],
   "source": [
    "Use_city_g = train_data['Use_city'].unique()\n",
    "Use_city_g = Series(Use_city_g)\n",
    "Use_city_g"
   ]
  },
  {
   "cell_type": "code",
   "execution_count": null,
   "metadata": {
    "collapsed": true
   },
   "outputs": [],
   "source": []
  }
 ],
 "metadata": {
  "kernelspec": {
   "display_name": "Python 2",
   "language": "python",
   "name": "python2"
  },
  "language_info": {
   "codemirror_mode": {
    "name": "ipython",
    "version": 2
   },
   "file_extension": ".py",
   "mimetype": "text/x-python",
   "name": "python",
   "nbconvert_exporter": "python",
   "pygments_lexer": "ipython2",
   "version": "2.7.9"
  }
 },
 "nbformat": 4,
 "nbformat_minor": 0
}
